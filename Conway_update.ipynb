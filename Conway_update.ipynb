{
 "cells": [
  {
   "cell_type": "code",
   "execution_count": 1,
   "id": "7a913222",
   "metadata": {
    "ExecuteTime": {
     "end_time": "2024-03-14T15:09:00.199692Z",
     "start_time": "2024-03-14T15:08:59.759054Z"
    }
   },
   "outputs": [],
   "source": [
    "import tkinter as tk\n",
    "from tkinter.ttk import *\n",
    "import numpy as np\n",
    "import time\n"
   ]
  },
  {
   "cell_type": "code",
   "execution_count": 38,
   "id": "318b1868",
   "metadata": {
    "ExecuteTime": {
     "end_time": "2024-03-14T15:49:41.462724Z",
     "start_time": "2024-03-14T15:49:41.418942Z"
    }
   },
   "outputs": [],
   "source": [
    "class Cell:\n",
    "    def __init__(self,grid,row,col,state):\n",
    "        self.grid = grid\n",
    "        self.row = row\n",
    "        self.col = col\n",
    "        self.state = state\n",
    "        self.neighbors = []\n",
    "    def appear(self):\n",
    "        self.state = 1\n",
    "    def dead(self):\n",
    "        self.state = 0\n",
    "    def update_state(self):\n",
    "        if self.state == 1:\n",
    "            if (self.grid.counts[self.row][self.col]>3) or (self.grid.counts[self.row][self.col]<2):\n",
    "                self.dead()\n",
    "\n",
    "        else:\n",
    "            if (self.grid.counts[self.row][self.col]==3):\n",
    "                self.appear()\n",
    "\n",
    "                \n",
    "class Grid:\n",
    "    def __init__(self,n_rows,n_cols):\n",
    "        self.n_rows = n_rows\n",
    "        self.n_cols = n_cols\n",
    "        self.cells = np.array([[Cell(self,row,col,0) for col in range(0,n_cols+2)] for row in range(0,n_rows+2)])\n",
    "        # add 2 cols and rows for count_align_neighbors\n",
    "        \n",
    "        self.get_neighbors()\n",
    "        self.count_align_neighbors()\n",
    "        self.counts = self.count_align_neighbors()\n",
    "    \n",
    "    def get_neighbors(self):\n",
    "        for row in range(1,n_rows+1):\n",
    "            for col in range(1,n_cols+1):\n",
    "                neighbors = []\n",
    "                for i in range(-1,2):\n",
    "                    for j in range(-1,2):\n",
    "                        neighbors.append(self.cells[row+i][col+j])\n",
    "                del neighbors[4]                 #minus itself\n",
    "                self.cells[row][col].neighbors = neighbors\n",
    "                \n",
    "    def count_align_neighbors(self):\n",
    "        self.counts = [[0 for col in range(0,n_cols+2)] for row in range(0,n_rows+2)]\n",
    "        for row in range(1,n_rows+1):\n",
    "            for col in range(1,n_cols+1):\n",
    "                neighbors_state = 0\n",
    "                \n",
    "                for neighbor in self.cells[row][col].neighbors:\n",
    "                    neighbors_state += neighbor.state\n",
    "                    \n",
    "                self.counts[row][col] = neighbors_state \n",
    "        return self.counts\n",
    "    def update_grid_state(self):\n",
    "        for row in range(1,n_rows+1):\n",
    "            for col in range(1,n_cols+1):\n",
    "                self.cells[row][col].update_state()\n",
    "class Click:  \n",
    "    def Choose_cell_button(grid,cell_buttons,row, col):\n",
    "        button = cell_buttons[row][col]\n",
    "        button.config(bg=\"#14f500\", text=\"OK\",height=0,width=0)\n",
    "        \n",
    "        #Appear\n",
    "        grid.cells[row+1][col+1].appear()\n",
    "        choose_cell_label = tk.Label(root,text=f\"Bạn đã chọn ô hàng {row+1}, cột {col+1}\",bg='skyblue')\n",
    "        choose_cell_label.place(x=50,y=380)\n",
    "        \n",
    "\n",
    "        \n",
    "        next_grid_button = tk.Button(root,text='Start',command=lambda:Click.Start(grid,cell_buttons))\n",
    "        next_grid_button.place(x=300,y=380)\n",
    "\n",
    "    def Start(grid,cell_buttons):\n",
    "        for row in range(1,n_rows+1):\n",
    "            for col in range(1,n_cols+1):\n",
    "                if grid.cells[row][col].state==1:\n",
    "                    cell_buttons[row-1][col-1].config(bg='yellow',text='',height=0,width=0)\n",
    "                else:\n",
    "                    cell_buttons[row-1][col-1].config(bg='gray',text='',height=0,width=0)\n",
    "        next_grid_button = tk.Button(root,text='Next',command=lambda:Click.Next(grid,cell_buttons))\n",
    "        next_grid_button.place(x=300,y=380)\n",
    "        \n",
    "        next_grid_button = tk.Button(root,text='Next_100',command=lambda:Click.Next_100(grid,cell_buttons))\n",
    "        next_grid_button.place(x=350,y=380)\n",
    "    def Up_frame(grid):\n",
    "        num_move = n_rows//2\n",
    "        new_rows = [[Cell(self,row,col,0) for col in range(0,n_cols+2)] for row in range(num_move)]\n",
    "        \n",
    "        grid.cells = np.vstack((grid.cells, new_rows))\n",
    "        grid.cells = grid.cells[num_move:]\n",
    "        \n",
    "    def Down_frame(grid):\n",
    "        num_move = n_rows//2\n",
    "        new_rows = [[Cell(self,row,col,0) for col in range(0,n_cols+2)] for row in range(num_move)]\n",
    "        \n",
    "        grid.cells = np.vstack((new_rows, grid.cells))\n",
    "        grid.cells = grid.cells[:-num_move]\n",
    "    \n",
    "    def Left_frame(grid):\n",
    "        print('Left_frame')\n",
    "        \n",
    "    def Right_frame(grid):\n",
    "        print('Right_frame')\n",
    "    \n",
    "    def warning_window(grid,type_warning):\n",
    "\n",
    "        message_box = tk.Toplevel(root)\n",
    "        message_box.title(\"Cảnh báo\") \n",
    "        warning_label = tk.Label(message_box, text=\"Ô sống đã vượt biên, bạn có muốn mở rộng biên không?\")\n",
    "        warning_label.pack()\n",
    "        if type_warning =='up':\n",
    "            update_button = tk.Button(message_box, text=\"Mở rộng lên\", command=lambda:Click.Up_frame(grid))\n",
    "        if type_warning =='down':\n",
    "            update_button = tk.Button(message_box, text=\"Mở rộng xuống\", command=lambda:Click.Down_frame(grid))\n",
    "        if type_warning =='left':\n",
    "            update_button = tk.Button(message_box, text=\"Mở rộng trái\", command=lambda:Click.Left_frame(grid))\n",
    "        if type_warning =='right':\n",
    "            update_button = tk.Button(message_box, text=\"Mở rộng phải\", command=lambda:Click.Right_frame(grid))\n",
    "        update_button.pack()\n",
    "\n",
    "\n",
    "    def update_bounding(grid):\n",
    "        for i in range(1,n_cols+1):\n",
    "            if grid.cells[1][i].state == 1:\n",
    "                print('Updated')\n",
    "                Click.warning_window(grid,'up')\n",
    "            if grid.cells[n_rows][i].state ==1:\n",
    "                print('Updated')\n",
    "                Click.warning_window(grid,'down')\n",
    "        for i in range(1,n_rows+1):\n",
    "            if grid.cells[i][1].state == 1:\n",
    "                print('Updated')\n",
    "                Click.warning_window(grid,'left')\n",
    "            if grid.cells[i][n_cols].state == 1:\n",
    "                print('Updated')\n",
    "                Click.warning_window(grid,'right')\n",
    "        \n",
    "    def Next(grid,cell_buttons):\n",
    "        grid.count_align_neighbors()\n",
    "        grid.update_grid_state()\n",
    "        \n",
    "        grid.count_align_neighbors()\n",
    "\n",
    "        for row in range(1,n_rows+1):\n",
    "            for col in range(1,n_cols+1):\n",
    "                if grid.cells[row][col].state==1:\n",
    "                    cell_buttons[row-1][col-1].config(bg='yellow',text='',height=0,width=0)\n",
    "                else:\n",
    "                    cell_buttons[row-1][col-1].config(bg='gray',text='',height=0,width=0)\n",
    "        Click.update_bounding(grid) \n",
    "        \n",
    "        next_grid_button = tk.Button(root,text='Next',command=lambda:Click.Next(grid,cell_buttons))\n",
    "        next_grid_button.place(x=300,y=380)\n",
    "        restart_button = tk.Button(root,text='Restart',command=lambda:Click.Restart(grid,cell_buttons))\n",
    "        restart_button.place(x=450,y=380)\n",
    "        \n",
    "    def Next_100(grid,cell_buttons):\n",
    "        for i in range(100):\n",
    "            next_grid_button = tk.Button(root,text='Next',command=lambda:Click.Next(grid,cell_buttons))\n",
    "            next_grid_button.invoke()\n",
    "            root.update()\n",
    "            update_bounding(grid)\n",
    "            time.sleep(0.2)\n",
    "\n",
    "        \n",
    "    def Restart(grid,cell_buttons):\n",
    "        \n",
    "        for row in range(1,n_rows+1):\n",
    "            for col in range(1,n_cols+1):\n",
    "                grid.cells[row][col].dead()\n",
    "        for row in range(1,n_rows+1):\n",
    "            for col in range(1,n_cols+1):\n",
    "                if grid.cells[row][col].state==1:\n",
    "                    cell_buttons[row-1][col-1].config(bg='yellow',text='',height=0,width=0)\n",
    "                else:\n",
    "                    cell_buttons[row-1][col-1].config(bg='gray',text='',height=0,width=0)\n",
    "        next_grid_button = tk.Button(root,text='Next',command=lambda:Click.Next(grid,cell_buttons))\n",
    "        next_grid_button.place(x=300,y=380)\n",
    "        \n",
    "        \n",
    "class create_click:\n",
    "    def create_grid_button():\n",
    "        grid = Grid(n_rows,n_cols)\n",
    "        \n",
    "        # reframe\n",
    "        overlay = tk.Canvas(root, bg=\"gray\", highlightthickness=0)\n",
    "        overlay.place(relwidth=1, relheight=1)\n",
    "        \n",
    "        # margin\n",
    "        for i in range(n_rows + 1):\n",
    "            root.rowconfigure(i, weight=1)\n",
    "        for j in range(n_cols + 1):\n",
    "            root.columnconfigure(j, weight=1)\n",
    "        \n",
    "        # create button\n",
    "        cell_buttons = [[None] * n_cols for _ in range(n_rows)]\n",
    "        for i in range(n_rows):\n",
    "            for j in range(n_cols):\n",
    "                cell_button = tk.Button(root, text=\"{},{}\".format(i+1, j+1),\n",
    "                                   command=lambda row=i, col=j: Click.Choose_cell_button(grid,cell_buttons,row, col))\n",
    "                cell_button.grid(row=i, column=j,sticky=\"nsew\")\n",
    "                cell_buttons[i][j] = cell_button\n",
    "def get_num():\n",
    "    try:\n",
    "        global n_rows,n_cols\n",
    "        n_rows = int(n_rows_entry.get())\n",
    "        n_cols = int(n_cols_entry.get())\n",
    "        if isinstance(n_rows,int) & isinstance(n_cols,int) & (n_rows>=5) & (n_cols>=5) & (n_rows<20) & (n_cols<20):\n",
    "            get_num_checked_label = tk.Label(root,text=\"Số thỏa mãn,chơi thôi\",fg='green')\n",
    "            get_num_checked_label.place(x=150,y=130)\n",
    "            \n",
    "            start_btn = Button(root,text=\"Chơi\",command=create_click.create_grid_button)\n",
    "            start_btn.place(x=250,y=300)\n",
    "            \n",
    "        else:\n",
    "            get_num_error_label = tk.Label(root,text=\"Nhập số không thỏa mãn\\n Hãy nhập số nguyên, và lớn hơn 4 và không vượt quá 20 cho trải nghiệm chơi tốt nhất\",\n",
    "                                       fg='red')\n",
    "            get_num_error_label.place(x=50,y=160)\n",
    "    except:\n",
    "        get_num_error_label = tk.Label(root,text=\"Nhập số không thỏa mãn\\n Hãy nhập số nguyên, và lớn hơn 4 và không vượt quá 20 cho trải nghiệm chơi tốt nhất\",\n",
    "                                       fg='red')\n",
    "        get_num_error_label.place(x=50,y=160)"
   ]
  },
  {
   "cell_type": "markdown",
   "id": "7fa01195",
   "metadata": {},
   "source": [
    "# Xem lại hàm update_bounding và các hàm con"
   ]
  },
  {
   "cell_type": "code",
   "execution_count": 39,
   "id": "73da0035",
   "metadata": {
    "ExecuteTime": {
     "end_time": "2024-03-14T15:50:20.517428Z",
     "start_time": "2024-03-14T15:49:42.874515Z"
    }
   },
   "outputs": [
    {
     "name": "stdout",
     "output_type": "stream",
     "text": [
      "Updated\n",
      "Down_frame\n",
      "Down_frame\n",
      "Down_frame\n",
      "Down_frame\n",
      "Down_frame\n",
      "Down_frame\n",
      "Down_frame\n",
      "Down_frame\n",
      "Down_frame\n",
      "Down_frame\n"
     ]
    }
   ],
   "source": [
    "root = tk.Tk()\n",
    "root.geometry('600x400')\n",
    "root.resizable(0,0)\n",
    "root.title('Conway Game')\n",
    "root.resizable(width=False, height=False)\n",
    "\n",
    "\n",
    "# Label\n",
    "n_rows_entry_label = tk.Label(root,text=\"Nhập số hàng:\")\n",
    "n_rows_entry_label.place(x=50,y=50)\n",
    "\n",
    "n_cols_entry_label = tk.Label(root,text=\"Nhập số cột:\")\n",
    "n_cols_entry_label.place(x=50,y=100)\n",
    "\n",
    "# Entry\n",
    "n_rows_entry = tk.Entry(root)\n",
    "n_rows_entry.place(x=150,y=50,width=20)\n",
    "\n",
    "n_cols_entry = tk.Entry(root)\n",
    "n_cols_entry.place(x=150,y=100,width=20)\n",
    "\n",
    "# Button\n",
    "start_button = tk.Button(root,text='Lấy số',command=get_num)\n",
    "start_button.place(x=100,y=130)\n",
    "\n",
    "\n",
    "root.mainloop()"
   ]
  },
  {
   "cell_type": "code",
   "execution_count": null,
   "id": "7e6c97b8",
   "metadata": {},
   "outputs": [],
   "source": []
  },
  {
   "cell_type": "code",
   "execution_count": 3,
   "id": "024b821a",
   "metadata": {
    "ExecuteTime": {
     "end_time": "2024-03-11T09:37:44.753684Z",
     "start_time": "2024-03-11T09:37:19.500632Z"
    }
   },
   "outputs": [
    {
     "ename": "KeyboardInterrupt",
     "evalue": "",
     "output_type": "error",
     "traceback": [
      "\u001b[1;31m---------------------------------------------------------------------------\u001b[0m",
      "\u001b[1;31mKeyboardInterrupt\u001b[0m                         Traceback (most recent call last)",
      "\u001b[1;32m~\\AppData\\Local\\Temp\\ipykernel_16956\\1067788878.py\u001b[0m in \u001b[0;36m<module>\u001b[1;34m\u001b[0m\n\u001b[0;32m     22\u001b[0m \u001b[1;33m\u001b[0m\u001b[0m\n\u001b[0;32m     23\u001b[0m \u001b[1;31m# Hiển thị root window\u001b[0m\u001b[1;33m\u001b[0m\u001b[1;33m\u001b[0m\u001b[0m\n\u001b[1;32m---> 24\u001b[1;33m \u001b[0mroot\u001b[0m\u001b[1;33m.\u001b[0m\u001b[0mmainloop\u001b[0m\u001b[1;33m(\u001b[0m\u001b[1;33m)\u001b[0m\u001b[1;33m\u001b[0m\u001b[1;33m\u001b[0m\u001b[0m\n\u001b[0m",
      "\u001b[1;32m~\\anaconda3\\lib\\tkinter\\__init__.py\u001b[0m in \u001b[0;36mmainloop\u001b[1;34m(self, n)\u001b[0m\n\u001b[0;32m   1427\u001b[0m     \u001b[1;32mdef\u001b[0m \u001b[0mmainloop\u001b[0m\u001b[1;33m(\u001b[0m\u001b[0mself\u001b[0m\u001b[1;33m,\u001b[0m \u001b[0mn\u001b[0m\u001b[1;33m=\u001b[0m\u001b[1;36m0\u001b[0m\u001b[1;33m)\u001b[0m\u001b[1;33m:\u001b[0m\u001b[1;33m\u001b[0m\u001b[1;33m\u001b[0m\u001b[0m\n\u001b[0;32m   1428\u001b[0m         \u001b[1;34m\"\"\"Call the mainloop of Tk.\"\"\"\u001b[0m\u001b[1;33m\u001b[0m\u001b[1;33m\u001b[0m\u001b[0m\n\u001b[1;32m-> 1429\u001b[1;33m         \u001b[0mself\u001b[0m\u001b[1;33m.\u001b[0m\u001b[0mtk\u001b[0m\u001b[1;33m.\u001b[0m\u001b[0mmainloop\u001b[0m\u001b[1;33m(\u001b[0m\u001b[0mn\u001b[0m\u001b[1;33m)\u001b[0m\u001b[1;33m\u001b[0m\u001b[1;33m\u001b[0m\u001b[0m\n\u001b[0m\u001b[0;32m   1430\u001b[0m \u001b[1;33m\u001b[0m\u001b[0m\n\u001b[0;32m   1431\u001b[0m     \u001b[1;32mdef\u001b[0m \u001b[0mquit\u001b[0m\u001b[1;33m(\u001b[0m\u001b[0mself\u001b[0m\u001b[1;33m)\u001b[0m\u001b[1;33m:\u001b[0m\u001b[1;33m\u001b[0m\u001b[1;33m\u001b[0m\u001b[0m\n",
      "\u001b[1;31mKeyboardInterrupt\u001b[0m: "
     ]
    }
   ],
   "source": [
    "import tkinter as tk\n",
    "\n",
    "def open_message_box():\n",
    "    # Tạo cửa sổ thông báo\n",
    "    message_box = tk.Toplevel(root)\n",
    "    message_box.title(\"Thông báo\")  # Đặt tiêu đề cho cửa sổ\n",
    "\n",
    "    # Thêm label vào cửa sổ thông báo\n",
    "    label = tk.Label(message_box, text=\"Đây là một cửa sổ thông báo\")\n",
    "    label.pack()\n",
    "\n",
    "    # Thêm button vào cửa sổ thông báo\n",
    "    button = tk.Button(message_box, text=\"Đóng\", command=message_box.destroy)\n",
    "    button.pack()\n",
    "\n",
    "# Tạo root window\n",
    "root = tk.Tk()\n",
    "\n",
    "# Tạo button để mở cửa sổ thông báo\n",
    "open_button = tk.Button(root, text=\"Mở cửa sổ thông báo\", command=open_message_box)\n",
    "open_button.pack()\n",
    "\n",
    "# Hiển thị root window\n",
    "root.mainloop()\n"
   ]
  },
  {
   "cell_type": "code",
   "execution_count": 33,
   "id": "373b79c9",
   "metadata": {
    "ExecuteTime": {
     "end_time": "2024-03-14T15:44:00.163825Z",
     "start_time": "2024-03-14T15:44:00.153893Z"
    }
   },
   "outputs": [
    {
     "name": "stdout",
     "output_type": "stream",
     "text": [
      "done\n",
      "Done\n"
     ]
    }
   ],
   "source": [
    "update_func = {'up': print('done'),'down':print('Done'),'left': 3,'right':4}\n",
    "\n",
    "update_func['down']"
   ]
  },
  {
   "cell_type": "markdown",
   "id": "314b48f5",
   "metadata": {
    "ExecuteTime": {
     "end_time": "2024-03-14T15:41:29.041524Z",
     "start_time": "2024-03-14T15:41:29.030990Z"
    }
   },
   "source": [
    "# Sửa nốt hàm up,down,left,right\n"
   ]
  },
  {
   "cell_type": "code",
   "execution_count": 50,
   "id": "5b05ae42",
   "metadata": {
    "ExecuteTime": {
     "end_time": "2024-03-14T16:14:46.891036Z",
     "start_time": "2024-03-14T16:14:46.881763Z"
    }
   },
   "outputs": [
    {
     "data": {
      "text/plain": [
       "array([[0., 0., 0., 0., 0., 0., 0.],\n",
       "       [0., 0., 0., 0., 0., 0., 0.],\n",
       "       [0., 0., 0., 0., 0., 0., 0.],\n",
       "       [0., 0., 0., 0., 0., 0., 0.],\n",
       "       [0., 0., 0., 0., 0., 0., 0.],\n",
       "       [0., 0., 0., 0., 0., 0., 0.],\n",
       "       [0., 0., 0., 0., 0., 0., 0.]])"
      ]
     },
     "execution_count": 50,
     "metadata": {},
     "output_type": "execute_result"
    }
   ],
   "source": [
    "matrix = np.zeros((7, 7))\n",
    "matrix"
   ]
  },
  {
   "cell_type": "code",
   "execution_count": 51,
   "id": "52cf6514",
   "metadata": {
    "ExecuteTime": {
     "end_time": "2024-03-14T16:14:47.465053Z",
     "start_time": "2024-03-14T16:14:47.441108Z"
    }
   },
   "outputs": [
    {
     "ename": "ValueError",
     "evalue": "all the input array dimensions for the concatenation axis must match exactly, but along dimension 0, the array at index 0 has size 7 and the array at index 1 has size 3",
     "output_type": "error",
     "traceback": [
      "\u001b[1;31m---------------------------------------------------------------------------\u001b[0m",
      "\u001b[1;31mValueError\u001b[0m                                Traceback (most recent call last)",
      "\u001b[1;32m~\\AppData\\Local\\Temp\\ipykernel_21056\\4030215088.py\u001b[0m in \u001b[0;36m<module>\u001b[1;34m\u001b[0m\n\u001b[0;32m      1\u001b[0m \u001b[0mnew_rows\u001b[0m \u001b[1;33m=\u001b[0m \u001b[0mnp\u001b[0m\u001b[1;33m.\u001b[0m\u001b[0marray\u001b[0m\u001b[1;33m(\u001b[0m\u001b[1;33m[\u001b[0m\u001b[1;33m[\u001b[0m\u001b[1;36m1\u001b[0m \u001b[1;32mfor\u001b[0m \u001b[0mrow\u001b[0m \u001b[1;32min\u001b[0m \u001b[0mrange\u001b[0m\u001b[1;33m(\u001b[0m\u001b[1;36m5\u001b[0m\u001b[1;33m+\u001b[0m\u001b[1;36m2\u001b[0m\u001b[1;33m)\u001b[0m\u001b[1;33m]\u001b[0m \u001b[1;32mfor\u001b[0m \u001b[0mcol\u001b[0m \u001b[1;32min\u001b[0m \u001b[0mrange\u001b[0m\u001b[1;33m(\u001b[0m\u001b[1;36m3\u001b[0m\u001b[1;33m)\u001b[0m\u001b[1;33m]\u001b[0m\u001b[1;33m)\u001b[0m\u001b[1;33m\u001b[0m\u001b[1;33m\u001b[0m\u001b[0m\n\u001b[0;32m      2\u001b[0m \u001b[1;33m\u001b[0m\u001b[0m\n\u001b[1;32m----> 3\u001b[1;33m \u001b[0mmatrix\u001b[0m \u001b[1;33m=\u001b[0m \u001b[0mnp\u001b[0m\u001b[1;33m.\u001b[0m\u001b[0mhstack\u001b[0m\u001b[1;33m(\u001b[0m\u001b[1;33m(\u001b[0m\u001b[0mmatrix\u001b[0m\u001b[1;33m,\u001b[0m\u001b[0mnew_rows\u001b[0m\u001b[1;33m)\u001b[0m\u001b[1;33m)\u001b[0m\u001b[1;33m\u001b[0m\u001b[1;33m\u001b[0m\u001b[0m\n\u001b[0m\u001b[0;32m      4\u001b[0m \u001b[0mmatrix\u001b[0m \u001b[1;33m=\u001b[0m \u001b[0mmatrix\u001b[0m\u001b[1;33m[\u001b[0m\u001b[1;36m3\u001b[0m\u001b[1;33m:\u001b[0m\u001b[1;33m]\u001b[0m\u001b[1;33m\u001b[0m\u001b[1;33m\u001b[0m\u001b[0m\n",
      "\u001b[1;32m<__array_function__ internals>\u001b[0m in \u001b[0;36mhstack\u001b[1;34m(*args, **kwargs)\u001b[0m\n",
      "\u001b[1;32m~\\anaconda3\\lib\\site-packages\\numpy\\core\\shape_base.py\u001b[0m in \u001b[0;36mhstack\u001b[1;34m(tup)\u001b[0m\n\u001b[0;32m    343\u001b[0m         \u001b[1;32mreturn\u001b[0m \u001b[0m_nx\u001b[0m\u001b[1;33m.\u001b[0m\u001b[0mconcatenate\u001b[0m\u001b[1;33m(\u001b[0m\u001b[0marrs\u001b[0m\u001b[1;33m,\u001b[0m \u001b[1;36m0\u001b[0m\u001b[1;33m)\u001b[0m\u001b[1;33m\u001b[0m\u001b[1;33m\u001b[0m\u001b[0m\n\u001b[0;32m    344\u001b[0m     \u001b[1;32melse\u001b[0m\u001b[1;33m:\u001b[0m\u001b[1;33m\u001b[0m\u001b[1;33m\u001b[0m\u001b[0m\n\u001b[1;32m--> 345\u001b[1;33m         \u001b[1;32mreturn\u001b[0m \u001b[0m_nx\u001b[0m\u001b[1;33m.\u001b[0m\u001b[0mconcatenate\u001b[0m\u001b[1;33m(\u001b[0m\u001b[0marrs\u001b[0m\u001b[1;33m,\u001b[0m \u001b[1;36m1\u001b[0m\u001b[1;33m)\u001b[0m\u001b[1;33m\u001b[0m\u001b[1;33m\u001b[0m\u001b[0m\n\u001b[0m\u001b[0;32m    346\u001b[0m \u001b[1;33m\u001b[0m\u001b[0m\n\u001b[0;32m    347\u001b[0m \u001b[1;33m\u001b[0m\u001b[0m\n",
      "\u001b[1;32m<__array_function__ internals>\u001b[0m in \u001b[0;36mconcatenate\u001b[1;34m(*args, **kwargs)\u001b[0m\n",
      "\u001b[1;31mValueError\u001b[0m: all the input array dimensions for the concatenation axis must match exactly, but along dimension 0, the array at index 0 has size 7 and the array at index 1 has size 3"
     ]
    }
   ],
   "source": [
    "new_rows = np.array([[1 for row in range(5+2)] for col in range(3)])\n",
    "\n",
    "matrix = np.hstack((matrix,new_rows))\n",
    "matrix = matrix[3:]"
   ]
  },
  {
   "cell_type": "code",
   "execution_count": 49,
   "id": "017363d5",
   "metadata": {
    "ExecuteTime": {
     "end_time": "2024-03-14T16:14:34.396516Z",
     "start_time": "2024-03-14T16:14:34.386978Z"
    }
   },
   "outputs": [
    {
     "name": "stdout",
     "output_type": "stream",
     "text": [
      "[[0. 1. 0. 0. 0. 0. 0.]\n",
      " [0. 1. 0. 0. 0. 0. 0.]\n",
      " [0. 1. 0. 0. 0. 0. 0.]\n",
      " [0. 1. 0. 0. 0. 0. 0.]\n",
      " [0. 1. 0. 0. 0. 0. 0.]\n",
      " [0. 1. 0. 0. 0. 0. 0.]\n",
      " [0. 1. 0. 0. 0. 0. 0.]]\n"
     ]
    }
   ],
   "source": [
    "new_column = np.zeros((7, 1))\n",
    "matrix = np.hstack((new_column, matrix))\n",
    "\n",
    "# Xóa cột bên phải\n",
    "matrix = np.delete(matrix, -1, axis=1)\n",
    "\n",
    "print(matrix)\n"
   ]
  },
  {
   "cell_type": "code",
   "execution_count": null,
   "id": "8468578b",
   "metadata": {},
   "outputs": [],
   "source": []
  }
 ],
 "metadata": {
  "kernelspec": {
   "display_name": "Python 3 (ipykernel)",
   "language": "python",
   "name": "python3"
  },
  "language_info": {
   "codemirror_mode": {
    "name": "ipython",
    "version": 3
   },
   "file_extension": ".py",
   "mimetype": "text/x-python",
   "name": "python",
   "nbconvert_exporter": "python",
   "pygments_lexer": "ipython3",
   "version": "3.9.13"
  },
  "toc": {
   "base_numbering": 1,
   "nav_menu": {},
   "number_sections": true,
   "sideBar": true,
   "skip_h1_title": false,
   "title_cell": "Table of Contents",
   "title_sidebar": "Contents",
   "toc_cell": false,
   "toc_position": {},
   "toc_section_display": true,
   "toc_window_display": false
  },
  "varInspector": {
   "cols": {
    "lenName": 16,
    "lenType": 16,
    "lenVar": 40
   },
   "kernels_config": {
    "python": {
     "delete_cmd_postfix": "",
     "delete_cmd_prefix": "del ",
     "library": "var_list.py",
     "varRefreshCmd": "print(var_dic_list())"
    },
    "r": {
     "delete_cmd_postfix": ") ",
     "delete_cmd_prefix": "rm(",
     "library": "var_list.r",
     "varRefreshCmd": "cat(var_dic_list()) "
    }
   },
   "types_to_exclude": [
    "module",
    "function",
    "builtin_function_or_method",
    "instance",
    "_Feature"
   ],
   "window_display": false
  }
 },
 "nbformat": 4,
 "nbformat_minor": 5
}
