{
 "cells": [
  {
   "cell_type": "code",
   "execution_count": 174,
   "id": "7a913222",
   "metadata": {
    "ExecuteTime": {
     "end_time": "2024-03-08T06:38:20.697930Z",
     "start_time": "2024-03-08T06:38:20.694402Z"
    }
   },
   "outputs": [],
   "source": [
    "import tkinter as tk\n",
    "from tkinter.ttk import *\n",
    "import numpy as np"
   ]
  },
  {
   "cell_type": "code",
   "execution_count": 185,
   "id": "318b1868",
   "metadata": {
    "ExecuteTime": {
     "end_time": "2024-03-08T06:40:38.651262Z",
     "start_time": "2024-03-08T06:40:38.631067Z"
    }
   },
   "outputs": [],
   "source": [
    "class Cell:\n",
    "    def __init__(self,grid,row,col,state):\n",
    "        self.grid = grid\n",
    "        self.row = row\n",
    "        self.col = col\n",
    "        self.state = state\n",
    "        self.neighbors = []\n",
    "    def appear(self):\n",
    "        self.state = 1\n",
    "    def dead(self):\n",
    "        self.state = 0\n",
    "    def update_state(self):\n",
    "        if self.state == 1:\n",
    "            if (self.grid.counts[self.row][self.col]>3) or (self.grid.counts[self.row][self.col]<2):\n",
    "                self.dead()\n",
    "\n",
    "        else:\n",
    "            if (self.grid.counts[self.row][self.col]==3):\n",
    "                self.appear()\n",
    "\n",
    "class Grid:\n",
    "    def __init__(self,n_rows,n_cols):\n",
    "        self.n_rows = n_rows\n",
    "        self.n_cols = n_cols\n",
    "        self.cells = np.array([[Cell(self,row,col,0) for col in range(0,n_cols+2)] for row in range(0,n_rows+2)])\n",
    "        # add 2 cols and rows for count_align_neighbors\n",
    "        \n",
    "        self.get_neighbors()\n",
    "        self.count_align_neighbors()\n",
    "        self.counts = self.count_align_neighbors()\n",
    "    \n",
    "    def get_neighbors(self):\n",
    "        for row in range(1,n_rows+1):\n",
    "            for col in range(1,n_cols+1):\n",
    "                neighbors = []\n",
    "                for i in range(-1,2):\n",
    "                    for j in range(-1,2):\n",
    "                        neighbors.append(self.cells[row+i][col+j])\n",
    "                del neighbors[4]                 #minus itself\n",
    "                self.cells[row][col].neighbors = neighbors\n",
    "                \n",
    "    def count_align_neighbors(self):\n",
    "        self.counts = [[0 for col in range(0,n_cols+2)] for row in range(0,n_rows+2)]\n",
    "        for row in range(1,n_rows+1):\n",
    "            for col in range(1,n_cols+1):\n",
    "                neighbors_state = 0\n",
    "                \n",
    "                for neighbor in self.cells[row][col].neighbors:\n",
    "                    neighbors_state += neighbor.state\n",
    "                    \n",
    "                self.counts[row][col] = neighbors_state \n",
    "        return self.counts\n",
    "    def update_grid_state(self):\n",
    "        for row in range(1,n_rows+1):\n",
    "            for col in range(1,n_cols+1):\n",
    "                self.cells[row][col].update_state()\n",
    "class Click:  \n",
    "    def Choose_cell_button(grid,cell_buttons,row, col):\n",
    "        button = cell_buttons[row][col]\n",
    "        button.config(bg=\"#14f500\", text=\"OK\",height=0,width=0)\n",
    "        \n",
    "        #Appear\n",
    "        grid.cells[row+1][col+1].appear()\n",
    "        choose_cell_label = tk.Label(root,text=f\"Bạn đã chọn ô hàng {row+1}, cột {col+1}\",bg='skyblue')\n",
    "        choose_cell_label.place(x=50,y=380)\n",
    "        \n",
    "\n",
    "        \n",
    "        next_grid_button = tk.Button(root,text='Start',command=lambda:Click.Start(grid,cell_buttons))\n",
    "        next_grid_button.place(x=300,y=380)\n",
    "\n",
    "    def Start(grid,cell_buttons):\n",
    "        for row in range(1,n_rows+1):\n",
    "            for col in range(1,n_cols+1):\n",
    "                if grid.cells[row][col].state==1:\n",
    "                    cell_buttons[row-1][col-1].config(bg='yellow',text='alive',height=0,width=0)\n",
    "                else:\n",
    "                    cell_buttons[row-1][col-1].config(bg='gray',text='died',height=0,width=0)\n",
    "        next_grid_button = tk.Button(root,text='Next',command=lambda:Click.Next(grid,cell_buttons))\n",
    "        next_grid_button.place(x=300,y=380)\n",
    "        \n",
    "        \n",
    "        \n",
    "    def Next(grid,cell_buttons):\n",
    "        grid.count_align_neighbors()\n",
    "        grid.update_grid_state()\n",
    "        \n",
    "        grid.count_align_neighbors()\n",
    "\n",
    "        for row in range(1,n_rows+1):\n",
    "            for col in range(1,n_cols+1):\n",
    "                if grid.cells[row][col].state==1:\n",
    "                    cell_buttons[row-1][col-1].config(bg='yellow',text='alive',height=0,width=0)\n",
    "                else:\n",
    "                    cell_buttons[row-1][col-1].config(bg='gray',text='died',height=0,width=0)\n",
    "        next_grid_button = tk.Button(root,text='Next',command=lambda:Click.Next(grid,cell_buttons))\n",
    "        next_grid_button.place(x=300,y=380)\n",
    "\n"
   ]
  },
  {
   "cell_type": "code",
   "execution_count": 186,
   "id": "c185cc36",
   "metadata": {
    "ExecuteTime": {
     "end_time": "2024-03-08T06:40:39.172768Z",
     "start_time": "2024-03-08T06:40:39.166473Z"
    }
   },
   "outputs": [],
   "source": [
    "class create_click:\n",
    "    def create_grid_button():\n",
    "        grid = Grid(n_rows,n_cols)\n",
    "        \n",
    "        # reframe\n",
    "        overlay = tk.Canvas(root, bg=\"gray\", highlightthickness=0)\n",
    "        overlay.place(relwidth=1, relheight=1)\n",
    "        \n",
    "        # margin\n",
    "        for i in range(n_rows + 1):\n",
    "            root.rowconfigure(i, weight=1)\n",
    "        for j in range(n_cols + 1):\n",
    "            root.columnconfigure(j, weight=1)\n",
    "        \n",
    "        # create button\n",
    "        cell_buttons = [[None] * n_cols for _ in range(n_rows)]\n",
    "        for i in range(n_rows):\n",
    "            for j in range(n_cols):\n",
    "                cell_button = tk.Button(root, text=\"{},{}\".format(i+1, j+1),\n",
    "                                   command=lambda row=i, col=j: Click.Choose_cell_button(grid,cell_buttons,row, col))\n",
    "                cell_button.grid(row=i, column=j,sticky=\"nsew\")\n",
    "                cell_buttons[i][j] = cell_button"
   ]
  },
  {
   "cell_type": "code",
   "execution_count": 187,
   "id": "bd1320e9",
   "metadata": {
    "ExecuteTime": {
     "end_time": "2024-03-08T06:40:39.420108Z",
     "start_time": "2024-03-08T06:40:39.413805Z"
    }
   },
   "outputs": [],
   "source": [
    "def get_num():\n",
    "    try:\n",
    "        global n_rows,n_cols\n",
    "        n_rows = int(n_rows_entry.get())\n",
    "        n_cols = int(n_cols_entry.get())\n",
    "        if isinstance(n_rows,int) & isinstance(n_cols,int) & (n_rows>=5) & (n_cols>=5):\n",
    "            get_num_checked_label = tk.Label(root,text=\"Số thỏa mãn,chơi thôi\",fg='green')\n",
    "            get_num_checked_label.place(x=150,y=130)\n",
    "            \n",
    "            start_btn = Button(root,text=\"Chơi\",command=create_click.create_grid_button)\n",
    "            start_btn.place(x=250,y=300)\n",
    "            \n",
    "        else:\n",
    "            get_num_error_label = tk.Label(root,text=\"Nhập số không thỏa mãn,hãy nhập số nguyên, và lớn hơn 5\",\n",
    "                                       fg='red')\n",
    "            get_num_error_label.place(x=50,y=160)\n",
    "    except:\n",
    "        get_num_error_label = tk.Label(root,text=\"Nhập số không thỏa mãn,hãy nhập số nguyên, và lớn hơn 5\",\n",
    "                                       fg='red')\n",
    "        get_num_error_label.place(x=50,y=160)"
   ]
  },
  {
   "cell_type": "code",
   "execution_count": 188,
   "id": "73da0035",
   "metadata": {
    "ExecuteTime": {
     "end_time": "2024-03-08T06:40:39.761511Z",
     "start_time": "2024-03-08T06:40:39.614017Z"
    }
   },
   "outputs": [],
   "source": [
    "root = tk.Tk()\n",
    "root.geometry('600x400')\n",
    "root.resizable(0,0)\n",
    "root.title('Conway Game')\n",
    "root.resizable(width=False, height=False)\n",
    "\n",
    "\n",
    "\n",
    "\n",
    "# Label\n",
    "n_rows_entry_label = tk.Label(root,text=\"Nhập số hàng:\")\n",
    "n_rows_entry_label.place(x=50,y=50)\n",
    "\n",
    "n_cols_entry_label = tk.Label(root,text=\"Nhập số cột:\")\n",
    "n_cols_entry_label.place(x=50,y=100)\n",
    "\n",
    "# Entry\n",
    "n_rows_entry = tk.Entry(root)\n",
    "n_rows_entry.place(x=150,y=50,width=20)\n",
    "\n",
    "n_cols_entry = tk.Entry(root)\n",
    "n_cols_entry.place(x=150,y=100,width=20)\n",
    "\n",
    "# Button\n",
    "start_button = tk.Button(root,text='Lấy số',command=get_num)\n",
    "start_button.place(x=100,y=130)\n"
   ]
  },
  {
   "cell_type": "code",
   "execution_count": 189,
   "id": "ac4fe1d1",
   "metadata": {
    "ExecuteTime": {
     "end_time": "2024-03-08T06:41:06.044457Z",
     "start_time": "2024-03-08T06:40:40.165348Z"
    },
    "scrolled": true
   },
   "outputs": [],
   "source": [
    "root.mainloop()"
   ]
  },
  {
   "cell_type": "code",
   "execution_count": null,
   "id": "133994c5",
   "metadata": {},
   "outputs": [],
   "source": []
  }
 ],
 "metadata": {
  "kernelspec": {
   "display_name": "Python 3 (ipykernel)",
   "language": "python",
   "name": "python3"
  },
  "language_info": {
   "codemirror_mode": {
    "name": "ipython",
    "version": 3
   },
   "file_extension": ".py",
   "mimetype": "text/x-python",
   "name": "python",
   "nbconvert_exporter": "python",
   "pygments_lexer": "ipython3",
   "version": "3.11.4"
  },
  "toc": {
   "base_numbering": 1,
   "nav_menu": {},
   "number_sections": true,
   "sideBar": true,
   "skip_h1_title": false,
   "title_cell": "Table of Contents",
   "title_sidebar": "Contents",
   "toc_cell": false,
   "toc_position": {},
   "toc_section_display": true,
   "toc_window_display": false
  },
  "varInspector": {
   "cols": {
    "lenName": 16,
    "lenType": 16,
    "lenVar": 40
   },
   "kernels_config": {
    "python": {
     "delete_cmd_postfix": "",
     "delete_cmd_prefix": "del ",
     "library": "var_list.py",
     "varRefreshCmd": "print(var_dic_list())"
    },
    "r": {
     "delete_cmd_postfix": ") ",
     "delete_cmd_prefix": "rm(",
     "library": "var_list.r",
     "varRefreshCmd": "cat(var_dic_list()) "
    }
   },
   "types_to_exclude": [
    "module",
    "function",
    "builtin_function_or_method",
    "instance",
    "_Feature"
   ],
   "window_display": false
  }
 },
 "nbformat": 4,
 "nbformat_minor": 5
}
