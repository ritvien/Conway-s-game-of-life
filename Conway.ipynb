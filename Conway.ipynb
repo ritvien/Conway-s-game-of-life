{
 "cells": [
  {
   "cell_type": "code",
   "execution_count": 1,
   "id": "7a913222",
   "metadata": {
    "ExecuteTime": {
     "end_time": "2024-03-05T01:42:17.402190Z",
     "start_time": "2024-03-05T01:42:17.365704Z"
    }
   },
   "outputs": [],
   "source": [
    "import tkinter as tk\n",
    "from tkinter.ttk import *"
   ]
  },
  {
   "cell_type": "code",
   "execution_count": 2,
   "id": "318b1868",
   "metadata": {
    "ExecuteTime": {
     "end_time": "2024-03-05T01:42:17.749354Z",
     "start_time": "2024-03-05T01:42:17.732352Z"
    }
   },
   "outputs": [],
   "source": [
    "class Cell:\n",
    "    def __init__(self,grid,row,col,state):\n",
    "        self.grid = grid\n",
    "        self.row = row\n",
    "        self.col = col\n",
    "        self.state = state\n",
    "        self.neighbors = []\n",
    "    def update_state(self):\n",
    "        if self.state == 1:\n",
    "            if (self.count>3) or (self.count<2):\n",
    "                self.state = 0\n",
    "        else:\n",
    "            if (self.count==3):\n",
    "                self.state = 1\n",
    "\n",
    "class Grid:\n",
    "    def __init__(self,n_rows,n_cols):\n",
    "        self.n_rows = n_rows\n",
    "        self.n_cols = n_cols\n",
    "        self.cells = [[Cell(self,row,col,0) for row in range(0,n_rows+2)] for col in range(0,n_cols+2)]\n",
    "        # add 2 cols and rows for count_align_neighbors\n",
    "        \n",
    "        self.get_neighbors\n",
    "        self.count_align_neighbors()\n",
    "        self.counts = self.count_align_neighbors()\n",
    "        \n",
    "    \n",
    "    def get_neighbors(self):\n",
    "        for cell in self.cells:\n",
    "            neighbors = []\n",
    "            for i in range(-1,2):\n",
    "                for j in range(-1,2):\n",
    "                    neighbors.append(self.cells[row+i][col+j])\n",
    "            cell.neighbors.pop(self.cells[row][col])             #minus self\n",
    "            cell.neighbors = neighbors\n",
    "    def count_align_neighbors(self):\n",
    "        counts = [[0 for col in range(1,n_cols+1)] for row in range(1,n_rows+1)]\n",
    "        for row in range(0,n_rows):\n",
    "            for col in range(0,n_cols):\n",
    "                neighbors_state = 0\n",
    "                for neighbor in self.cells[row][col].neighbors:\n",
    "                    neighbors_state += neighbor.state\n",
    "                counts[row][col] = neighbors_state\n",
    "        return counts\n",
    "    def update_count(self):\n",
    "        for row in range(1,n_rows+1):\n",
    "            for col in range(1,n_cols+1):\n",
    "                self.cells[row][col] = self.cells[row][col].update_state\n",
    "    def button_click(row, col):\n",
    "        print(\"Button at row {}, column {} clicked.\".format(row, col))"
   ]
  },
  {
   "cell_type": "code",
   "execution_count": 14,
   "id": "c185cc36",
   "metadata": {
    "ExecuteTime": {
     "end_time": "2024-03-05T01:49:48.294074Z",
     "start_time": "2024-03-05T01:49:48.274069Z"
    }
   },
   "outputs": [],
   "source": [
    "class click:\n",
    "    def create_grid_button():\n",
    "        grid = Grid(n_rows,n_cols)\n",
    "        for i in range(n_rows):\n",
    "            for j in range(n_cols):\n",
    "                button = tk.Button(root, text=\"{},{}\".format(i+1, j+1),\n",
    "                                   command=lambda row=i, col=j: button_click(row, col))\n",
    "                button.grid(row=i, column=j)"
   ]
  },
  {
   "cell_type": "code",
   "execution_count": 11,
   "id": "bd1320e9",
   "metadata": {
    "ExecuteTime": {
     "end_time": "2024-03-05T01:49:24.979842Z",
     "start_time": "2024-03-05T01:49:24.961761Z"
    }
   },
   "outputs": [],
   "source": [
    "def get_num():\n",
    "    try:\n",
    "        global n_rows,n_cols\n",
    "        n_rows = int(n_rows_entry.get())\n",
    "        n_cols = int(n_cols_entry.get())\n",
    "        if isinstance(n_rows,int) & isinstance(n_cols,int) & (n_rows>=5) & (n_cols>=5):\n",
    "            get_num_checked_label = tk.Label(root,text=\"Số thỏa mãn,chơi thôi\",fg='green')\n",
    "            get_num_checked_label.place(x=150,y=130)\n",
    "            \n",
    "            start_btn = Button(root,text=\"Chơi\",command=click.create_grid_button)\n",
    "            start_btn.place(x=250,y=300)\n",
    "            \n",
    "        else:\n",
    "            get_num_error_label = tk.Label(root,text=\"Nhập số không thỏa mãn,hãy nhập số nguyên, và lớn hơn 5\",\n",
    "                                       fg='red')\n",
    "            get_num_error_label.place(x=50,y=160)\n",
    "    except:\n",
    "        get_num_error_label = tk.Label(root,text=\"Nhập số không thỏa mãn,hãy nhập số nguyên, và lớn hơn 5\",\n",
    "                                       fg='red')\n",
    "        get_num_error_label.place(x=50,y=160)"
   ]
  },
  {
   "cell_type": "code",
   "execution_count": 12,
   "id": "73da0035",
   "metadata": {
    "ExecuteTime": {
     "end_time": "2024-03-05T01:49:25.228735Z",
     "start_time": "2024-03-05T01:49:25.116945Z"
    }
   },
   "outputs": [],
   "source": [
    "root = tk.Tk()\n",
    "root.geometry('600x400')\n",
    "root.resizable(0,0)\n",
    "root.title('Conway Game')\n",
    "root.resizable(width=False, height=False)\n",
    "\n",
    "\n",
    "frame = tk.Frame(root)\n",
    "frame.pack()\n",
    "\n",
    "# Label\n",
    "n_rows_entry_label = tk.Label(frame,text=\"Nhập số hàng:\")\n",
    "n_rows_entry_label.place(x=50,y=50)\n",
    "\n",
    "n_cols_entry_label = tk.Label(frame,text=\"Nhập số cột:\")\n",
    "n_cols_entry_label.place(x=50,y=100)\n",
    "\n",
    "# Entry\n",
    "n_rows_entry = tk.Entry(frame)\n",
    "n_rows_entry.place(x=150,y=50,width=20)\n",
    "\n",
    "n_cols_entry = tk.Entry(frame)\n",
    "n_cols_entry.place(x=150,y=100,width=20)\n",
    "\n",
    "# Button\n",
    "start_button = tk.Button(frame,text='Lấy số',command=get_num)\n",
    "start_button.place(x=100,y=130)\n"
   ]
  },
  {
   "cell_type": "code",
   "execution_count": 13,
   "id": "ac4fe1d1",
   "metadata": {
    "ExecuteTime": {
     "end_time": "2024-03-05T01:49:30.599582Z",
     "start_time": "2024-03-05T01:49:25.265794Z"
    }
   },
   "outputs": [],
   "source": [
    "root.mainloop()"
   ]
  },
  {
   "cell_type": "code",
   "execution_count": null,
   "id": "13e38615",
   "metadata": {},
   "outputs": [],
   "source": []
  },
  {
   "cell_type": "code",
   "execution_count": null,
   "id": "d6bc26ee",
   "metadata": {},
   "outputs": [],
   "source": []
  },
  {
   "cell_type": "code",
   "execution_count": null,
   "id": "2c6e6c31",
   "metadata": {},
   "outputs": [],
   "source": []
  },
  {
   "cell_type": "code",
   "execution_count": null,
   "id": "eebca698",
   "metadata": {},
   "outputs": [],
   "source": []
  },
  {
   "cell_type": "code",
   "execution_count": null,
   "id": "cc19ed17",
   "metadata": {},
   "outputs": [],
   "source": []
  },
  {
   "cell_type": "markdown",
   "id": "37b49f75",
   "metadata": {},
   "source": [
    "# Test"
   ]
  },
  {
   "cell_type": "code",
   "execution_count": 84,
   "id": "93d41e6b",
   "metadata": {
    "ExecuteTime": {
     "end_time": "2024-03-04T15:08:36.476552Z",
     "start_time": "2024-03-04T15:08:09.981823Z"
    }
   },
   "outputs": [
    {
     "name": "stdout",
     "output_type": "stream",
     "text": [
      "Button at row 1, column 0 clicked.\n",
      "Button at row 1, column 0 clicked.\n",
      "Button at row 1, column 0 clicked.\n",
      "Button at row 1, column 1 clicked.\n",
      "Button at row 1, column 2 clicked.\n",
      "Button at row 2, column 2 clicked.\n",
      "Button at row 2, column 1 clicked.\n",
      "Button at row 1, column 2 clicked.\n",
      "Button at row 1, column 2 clicked.\n",
      "Button at row 1, column 2 clicked.\n",
      "Button at row 1, column 2 clicked.\n",
      "Button at row 1, column 2 clicked.\n",
      "Button at row 1, column 2 clicked.\n",
      "Button at row 1, column 2 clicked.\n",
      "Button at row 1, column 2 clicked.\n"
     ]
    }
   ],
   "source": [
    "import tkinter as tk\n",
    "import tkinter as tk\n",
    "\n",
    "def button_click(row, col):\n",
    "    print(\"Button at row {}, column {} clicked.\".format(row, col))\n",
    "\n",
    "def create_grid(root, rows, columns):\n",
    "    for i in range(rows):\n",
    "        for j in range(columns):\n",
    "            button = tk.Button(root, text=\"Button {}x{}\".format(i+1, j+1),\n",
    "                               command=lambda row=i, col=j: button_click(row, col))\n",
    "            button.grid(row=i, column=j)\n",
    "\n",
    "root = tk.Tk()\n",
    "root.title(\"Grid of Buttons\")\n",
    "\n",
    "# Định nghĩa số hàng và số cột cho grid\n",
    "num_rows = 3\n",
    "num_columns = 4\n",
    "\n",
    "# Tạo grid\n",
    "create_grid(root, num_rows, num_columns)\n",
    "\n",
    "root.mainloop()\n",
    "\n",
    "\n"
   ]
  },
  {
   "cell_type": "code",
   "execution_count": 20,
   "id": "f6b042c3",
   "metadata": {
    "ExecuteTime": {
     "end_time": "2024-03-05T01:41:43.484359Z",
     "start_time": "2024-03-05T01:41:43.463360Z"
    }
   },
   "outputs": [
    {
     "data": {
      "text/plain": [
       "[[1, 1, 1, 1, 1, 1],\n",
       " [1, 1, 1, 1, 1, 1],\n",
       " [1, 1, 1, 1, 1, 1],\n",
       " [1, 1, 1, 1, 1, 1],\n",
       " [1, 1, 1, 1, 1, 1],\n",
       " [1, 1, 1, 1, 1, 1],\n",
       " [1, 1, 1, 1, 1, 1]]"
      ]
     },
     "execution_count": 20,
     "metadata": {},
     "output_type": "execute_result"
    }
   ],
   "source": [
    "counts = [[0 for col in range(1,6+1)] for row in range(1,7+1)]\n",
    "for row in range(0,7):\n",
    "    for col in range(0,6):\n",
    "        counts[row][col]=1\n",
    "                \n",
    "counts"
   ]
  },
  {
   "cell_type": "code",
   "execution_count": 19,
   "id": "0b2d4df4",
   "metadata": {
    "ExecuteTime": {
     "end_time": "2024-03-05T01:41:22.967741Z",
     "start_time": "2024-03-05T01:41:22.949740Z"
    }
   },
   "outputs": [
    {
     "data": {
      "text/plain": [
       "[[1, 1, 1, 1, 1, 1],\n",
       " [0, 0, 0, 0, 0, 0],\n",
       " [0, 0, 0, 0, 0, 0],\n",
       " [0, 0, 0, 0, 0, 0],\n",
       " [0, 0, 0, 0, 0, 0],\n",
       " [0, 0, 0, 0, 0, 0],\n",
       " [0, 0, 0, 0, 0, 0]]"
      ]
     },
     "execution_count": 19,
     "metadata": {},
     "output_type": "execute_result"
    }
   ],
   "source": [
    "counts"
   ]
  },
  {
   "cell_type": "code",
   "execution_count": 9,
   "id": "5c850838",
   "metadata": {
    "ExecuteTime": {
     "end_time": "2024-03-05T01:49:04.360216Z",
     "start_time": "2024-03-05T01:47:15.278742Z"
    }
   },
   "outputs": [],
   "source": [
    "import tkinter as tk\n",
    "\n",
    "def clear_frame():\n",
    "    for widget in frame.winfo_children():\n",
    "        widget.destroy()\n",
    "\n",
    "root = tk.Tk()\n",
    "root.title(\"Clear Frame\")\n",
    "\n",
    "frame = tk.Frame(root)\n",
    "frame.pack()\n",
    "\n",
    "label = tk.Label(frame, text=\"This is a label\")\n",
    "label.pack()\n",
    "\n",
    "button = tk.Button(frame, text=\"Clear Frame\", command=clear_frame)\n",
    "button.pack()\n",
    "\n",
    "root.mainloop()\n"
   ]
  },
  {
   "cell_type": "code",
   "execution_count": null,
   "id": "6d4b071f",
   "metadata": {},
   "outputs": [],
   "source": []
  }
 ],
 "metadata": {
  "kernelspec": {
   "display_name": "Python 3 (ipykernel)",
   "language": "python",
   "name": "python3"
  },
  "language_info": {
   "codemirror_mode": {
    "name": "ipython",
    "version": 3
   },
   "file_extension": ".py",
   "mimetype": "text/x-python",
   "name": "python",
   "nbconvert_exporter": "python",
   "pygments_lexer": "ipython3",
   "version": "3.9.13"
  },
  "toc": {
   "base_numbering": 1,
   "nav_menu": {},
   "number_sections": true,
   "sideBar": true,
   "skip_h1_title": false,
   "title_cell": "Table of Contents",
   "title_sidebar": "Contents",
   "toc_cell": false,
   "toc_position": {},
   "toc_section_display": true,
   "toc_window_display": false
  }
 },
 "nbformat": 4,
 "nbformat_minor": 5
}
