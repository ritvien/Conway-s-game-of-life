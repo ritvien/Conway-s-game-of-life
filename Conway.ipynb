{
 "cells": [
  {
   "cell_type": "code",
   "execution_count": 126,
   "id": "7a913222",
   "metadata": {
    "ExecuteTime": {
     "end_time": "2024-03-05T16:39:10.482404Z",
     "start_time": "2024-03-05T16:39:10.468777Z"
    }
   },
   "outputs": [],
   "source": [
    "import tkinter as tk\n",
    "from tkinter.ttk import *"
   ]
  },
  {
   "cell_type": "code",
   "execution_count": 127,
   "id": "318b1868",
   "metadata": {
    "ExecuteTime": {
     "end_time": "2024-03-05T16:39:10.653777Z",
     "start_time": "2024-03-05T16:39:10.631331Z"
    }
   },
   "outputs": [],
   "source": [
    "class Cell:\n",
    "    def __init__(self,grid,row,col,state):\n",
    "        self.grid = grid\n",
    "        self.row = row\n",
    "        self.col = col\n",
    "        self.state = state\n",
    "        self.neighbors = []\n",
    "    def appear(self):\n",
    "        self.state = 1\n",
    "    def dead(self):\n",
    "        self.state = 0\n",
    "    def update_state(self):\n",
    "        if self.state == 1:\n",
    "            if (self.count>3) or (self.count<2):\n",
    "                self.state = 0\n",
    "        else:\n",
    "            if (self.count==3):\n",
    "                self.state = 1\n",
    "\n",
    "class Grid:\n",
    "    def __init__(self,n_rows,n_cols):\n",
    "        self.n_rows = n_rows\n",
    "        self.n_cols = n_cols\n",
    "        self.cells = [[Cell(self,row,col,0) for col in range(0,n_cols+2)] for row in range(0,n_rows+2)]\n",
    "        # add 2 cols and rows for count_align_neighbors\n",
    "        \n",
    "        self.get_neighbors\n",
    "        self.count_align_neighbors()\n",
    "        self.counts = self.count_align_neighbors()\n",
    "        \n",
    "    \n",
    "    def get_neighbors(self):\n",
    "        for cell in self.cells:\n",
    "            neighbors = []\n",
    "            for i in range(-1,2):\n",
    "                for j in range(-1,2):\n",
    "                    neighbors.append(self.cells[row+i][col+j])\n",
    "            cell.neighbors.pop(self.cells[row][col])             #minus self\n",
    "            cell.neighbors = neighbors\n",
    "    def count_align_neighbors(self):\n",
    "        counts = [[0 for col in range(1,n_cols+1)] for row in range(1,n_rows+1)]\n",
    "        for row in range(0,n_rows):\n",
    "            for col in range(0,n_cols):\n",
    "                neighbors_state = 0\n",
    "                for neighbor in self.cells[row][col].neighbors:\n",
    "                    neighbors_state += neighbor.state\n",
    "                counts[row][col] = neighbors_state\n",
    "        return counts\n",
    "    def update_count(self):\n",
    "        for row in range(1,n_rows+1):\n",
    "            for col in range(1,n_cols+1):\n",
    "                self.cells[row][col] = self.cells[row][col].update_state\n",
    "class Click:  \n",
    "    def Chosse_cell_button(grid,cell_buttons,row, col):\n",
    "        button = cell_buttons[row][col]\n",
    "        button.config(bg=\"red\", text=\"OK\",height=0,width=0)\n",
    "        grid.cells[row][col].appear()"
   ]
  },
  {
   "cell_type": "code",
   "execution_count": 128,
   "id": "c185cc36",
   "metadata": {
    "ExecuteTime": {
     "end_time": "2024-03-05T16:39:10.795630Z",
     "start_time": "2024-03-05T16:39:10.779357Z"
    }
   },
   "outputs": [],
   "source": [
    "class click:\n",
    "    def create_grid_button():\n",
    "        grid = Grid(n_rows,n_cols)\n",
    "        \n",
    "        # reframe\n",
    "        overlay = tk.Canvas(root, bg=\"gray\", highlightthickness=0)\n",
    "        overlay.place(relwidth=1, relheight=1)\n",
    "        \n",
    "        # margin\n",
    "        for i in range(n_rows + 1):\n",
    "            root.rowconfigure(i, weight=1)\n",
    "        for j in range(n_cols + 1):\n",
    "            root.columnconfigure(j, weight=1)\n",
    "        \n",
    "        # create button\n",
    "        cell_buttons = [[None] * n_cols for _ in range(n_rows)]\n",
    "        for i in range(n_rows):\n",
    "            for j in range(n_cols):\n",
    "                cell_button = tk.Button(root, text=\"{},{}\".format(i+1, j+1),\n",
    "                                   command=lambda row=i, col=j: Click.Chosse_cell_button(grid,cell_buttons,row, col))\n",
    "                cell_button.grid(row=i, column=j,sticky=\"nsew\")\n",
    "                cell_buttons[i][j] = cell_button"
   ]
  },
  {
   "cell_type": "code",
   "execution_count": 129,
   "id": "bd1320e9",
   "metadata": {
    "ExecuteTime": {
     "end_time": "2024-03-05T16:39:10.921399Z",
     "start_time": "2024-03-05T16:39:10.913263Z"
    }
   },
   "outputs": [],
   "source": [
    "def get_num():\n",
    "    try:\n",
    "        global n_rows,n_cols\n",
    "        n_rows = int(n_rows_entry.get())\n",
    "        n_cols = int(n_cols_entry.get())\n",
    "        if isinstance(n_rows,int) & isinstance(n_cols,int) & (n_rows>=5) & (n_cols>=5):\n",
    "            get_num_checked_label = tk.Label(root,text=\"Số thỏa mãn,chơi thôi\",fg='green')\n",
    "            get_num_checked_label.place(x=150,y=130)\n",
    "            \n",
    "            start_btn = Button(root,text=\"Chơi\",command=click.create_grid_button)\n",
    "            start_btn.place(x=250,y=300)\n",
    "            \n",
    "        else:\n",
    "            get_num_error_label = tk.Label(root,text=\"Nhập số không thỏa mãn,hãy nhập số nguyên, và lớn hơn 5\",\n",
    "                                       fg='red')\n",
    "            get_num_error_label.place(x=50,y=160)\n",
    "    except:\n",
    "        get_num_error_label = tk.Label(root,text=\"Nhập số không thỏa mãn,hãy nhập số nguyên, và lớn hơn 5\",\n",
    "                                       fg='red')\n",
    "        get_num_error_label.place(x=50,y=160)"
   ]
  },
  {
   "cell_type": "code",
   "execution_count": 134,
   "id": "73da0035",
   "metadata": {
    "ExecuteTime": {
     "end_time": "2024-03-05T16:42:03.942900Z",
     "start_time": "2024-03-05T16:42:03.850312Z"
    }
   },
   "outputs": [],
   "source": [
    "root = tk.Tk()\n",
    "root.geometry('600x400')\n",
    "root.resizable(0,0)\n",
    "root.title('Conway Game')\n",
    "root.resizable(width=False, height=False)\n",
    "\n",
    "\n",
    "\n",
    "\n",
    "# Label\n",
    "n_rows_entry_label = tk.Label(root,text=\"Nhập số hàng:\")\n",
    "n_rows_entry_label.place(x=50,y=50)\n",
    "\n",
    "n_cols_entry_label = tk.Label(root,text=\"Nhập số cột:\")\n",
    "n_cols_entry_label.place(x=50,y=100)\n",
    "\n",
    "# Entry\n",
    "n_rows_entry = tk.Entry(root)\n",
    "n_rows_entry.place(x=150,y=50,width=20)\n",
    "\n",
    "n_cols_entry = tk.Entry(root)\n",
    "n_cols_entry.place(x=150,y=100,width=20)\n",
    "\n",
    "# Button\n",
    "start_button = tk.Button(root,text='Lấy số',command=get_num)\n",
    "start_button.place(x=100,y=130)\n"
   ]
  },
  {
   "cell_type": "code",
   "execution_count": 135,
   "id": "ac4fe1d1",
   "metadata": {
    "ExecuteTime": {
     "end_time": "2024-03-05T16:43:27.120557Z",
     "start_time": "2024-03-05T16:42:04.014047Z"
    }
   },
   "outputs": [],
   "source": [
    "root.mainloop()"
   ]
  },
  {
   "cell_type": "code",
   "execution_count": null,
   "id": "13e38615",
   "metadata": {},
   "outputs": [],
   "source": []
  },
  {
   "cell_type": "markdown",
   "id": "a7433a15",
   "metadata": {},
   "source": [
    "# Viết label choose cell appear, and finish game"
   ]
  },
  {
   "cell_type": "code",
   "execution_count": null,
   "id": "2c6e6c31",
   "metadata": {},
   "outputs": [],
   "source": []
  },
  {
   "cell_type": "markdown",
   "id": "37b49f75",
   "metadata": {},
   "source": [
    "# Test"
   ]
  },
  {
   "cell_type": "code",
   "execution_count": 84,
   "id": "93d41e6b",
   "metadata": {
    "ExecuteTime": {
     "end_time": "2024-03-04T15:08:36.476552Z",
     "start_time": "2024-03-04T15:08:09.981823Z"
    }
   },
   "outputs": [
    {
     "name": "stdout",
     "output_type": "stream",
     "text": [
      "Button at row 1, column 0 clicked.\n",
      "Button at row 1, column 0 clicked.\n",
      "Button at row 1, column 0 clicked.\n",
      "Button at row 1, column 1 clicked.\n",
      "Button at row 1, column 2 clicked.\n",
      "Button at row 2, column 2 clicked.\n",
      "Button at row 2, column 1 clicked.\n",
      "Button at row 1, column 2 clicked.\n",
      "Button at row 1, column 2 clicked.\n",
      "Button at row 1, column 2 clicked.\n",
      "Button at row 1, column 2 clicked.\n",
      "Button at row 1, column 2 clicked.\n",
      "Button at row 1, column 2 clicked.\n",
      "Button at row 1, column 2 clicked.\n",
      "Button at row 1, column 2 clicked.\n"
     ]
    }
   ],
   "source": [
    "import tkinter as tk\n",
    "import tkinter as tk\n",
    "\n",
    "def button_click(row, col):\n",
    "    print(\"Button at row {}, column {} clicked.\".format(row, col))\n",
    "\n",
    "def create_grid(root, rows, columns):\n",
    "    for i in range(rows):\n",
    "        for j in range(columns):\n",
    "            button = tk.Button(root, text=\"Button {}x{}\".format(i+1, j+1),\n",
    "                               command=lambda row=i, col=j: button_click(row, col))\n",
    "            button.grid(row=i, column=j)\n",
    "\n",
    "root = tk.Tk()\n",
    "root.title(\"Grid of Buttons\")\n",
    "\n",
    "# Định nghĩa số hàng và số cột cho grid\n",
    "num_rows = 3\n",
    "num_columns = 4\n",
    "\n",
    "# Tạo grid\n",
    "create_grid(root, num_rows, num_columns)\n",
    "\n",
    "root.mainloop()\n",
    "\n",
    "\n"
   ]
  },
  {
   "cell_type": "code",
   "execution_count": 57,
   "id": "f6b042c3",
   "metadata": {
    "ExecuteTime": {
     "end_time": "2024-03-05T15:44:56.098842Z",
     "start_time": "2024-03-05T15:44:56.079801Z"
    }
   },
   "outputs": [
    {
     "data": {
      "text/plain": [
       "[[1, 1, 1, 1, 1, 1, 1, 1, 1, 1, 1, 1, 1, 1, 1],\n",
       " [1, 1, 1, 1, 1, 1, 1, 1, 1, 1, 1, 1, 1, 1, 1],\n",
       " [1, 1, 1, 1, 1, 1, 1, 1, 1, 1, 1, 1, 1, 1, 1],\n",
       " [1, 1, 1, 1, 1, 1, 1, 1, 1, 1, 1, 1, 1, 1, 1],\n",
       " [1, 1, 1, 1, 1, 1, 1, 1, 1, 1, 1, 1, 1, 1, 1],\n",
       " [1, 1, 1, 1, 1, 1, 1, 1, 1, 1, 1, 1, 1, 1, 1],\n",
       " [1, 1, 1, 1, 1, 1, 1, 1, 1, 1, 1, 1, 1, 1, 1],\n",
       " [1, 1, 1, 1, 1, 1, 1, 1, 1, 1, 1, 1, 1, 1, 1],\n",
       " [1, 1, 1, 1, 1, 1, 1, 1, 1, 1, 1, 1, 1, 1, 1],\n",
       " [1, 1, 1, 1, 1, 1, 1, 1, 1, 1, 1, 1, 1, 1, 1]]"
      ]
     },
     "execution_count": 57,
     "metadata": {},
     "output_type": "execute_result"
    }
   ],
   "source": [
    "n_rows = 10\n",
    "n_cols = 15\n",
    "\n",
    "counts = [[0 for col in range(1,n_cols+1)] for row in range(1,n_rows+1)]\n",
    "for row in range(0,n_rows):\n",
    "    for col in range(0,n_cols):\n",
    "        \n",
    "        counts[row][col] = 1\n",
    "counts"
   ]
  },
  {
   "cell_type": "code",
   "execution_count": 58,
   "id": "0b2d4df4",
   "metadata": {
    "ExecuteTime": {
     "end_time": "2024-03-05T15:44:56.801473Z",
     "start_time": "2024-03-05T15:44:56.792962Z"
    }
   },
   "outputs": [],
   "source": [
    "cells = [[0 for row in range(0,n_rows+2)] for col in range(0,n_cols+2)]"
   ]
  }
 ],
 "metadata": {
  "kernelspec": {
   "display_name": "Python 3 (ipykernel)",
   "language": "python",
   "name": "python3"
  },
  "language_info": {
   "codemirror_mode": {
    "name": "ipython",
    "version": 3
   },
   "file_extension": ".py",
   "mimetype": "text/x-python",
   "name": "python",
   "nbconvert_exporter": "python",
   "pygments_lexer": "ipython3",
   "version": "3.9.13"
  },
  "toc": {
   "base_numbering": 1,
   "nav_menu": {},
   "number_sections": true,
   "sideBar": true,
   "skip_h1_title": false,
   "title_cell": "Table of Contents",
   "title_sidebar": "Contents",
   "toc_cell": false,
   "toc_position": {},
   "toc_section_display": true,
   "toc_window_display": false
  }
 },
 "nbformat": 4,
 "nbformat_minor": 5
}
